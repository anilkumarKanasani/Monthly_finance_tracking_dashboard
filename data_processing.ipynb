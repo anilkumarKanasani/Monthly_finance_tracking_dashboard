{
 "cells": [
  {
   "cell_type": "code",
   "execution_count": 354,
   "metadata": {},
   "outputs": [],
   "source": [
    "def refactor_monthly_data_frame(data_frame_name):\n",
    "    print(\"Refactoring \", data_frame_name, \" as per project requirement\")\n",
    "    import pandas as pd\n",
    "    df = pd.read_csv('input_data/2023/'+data_frame_name, sep=\";\")\n",
    "\n",
    "    df_category = pd.read_csv('supporting_data/category_mapper.csv', sep=';')\n",
    "\n",
    "    if data_frame_name == \"00_old_balance.csv\":\n",
    "        print(\"None\")\n",
    "    else:\n",
    "        empty_categories = set(df_category[\"Sub-category\"])-set(df[\"Sub-category\"])\n",
    "\n",
    "        if list(empty_categories):\n",
    "            for sub_cat in empty_categories:\n",
    "                temp_dict = {\"Description\": sub_cat + \"_empty_entry\", \n",
    "                \"amount\": 0.0,\n",
    "                \"Sub-category\": sub_cat}\n",
    "                df = pd.concat([df, pd.DataFrame(temp_dict, index=[0])], ignore_index=True)\n",
    "\n",
    "        # fill down the NaN values in Date column\n",
    "        df['Date'] = df['Date'].fillna(method='ffill')\n",
    "\n",
    "    try:\n",
    "        df[\"Date\"] = pd.to_datetime(df[\"Date\"], format=\"%d.%m.%y\")\n",
    "    except:\n",
    "        pass\n",
    "\n",
    "    # extract month from date column\n",
    "    df['Date'] = pd.to_datetime(df['Date'])\n",
    "    df['day'] = df['Date'].dt.day\n",
    "    df['month'] = df['Date'].dt.month_name()\n",
    "    df['month_number'] = df['Date'].dt.month\n",
    "    df['year'] = df['Date'].dt.year\n",
    "    df.drop(['Date'], axis=1, inplace=True)\n",
    "\n",
    "    df[\"amount\"] = df[\"amount\"].astype(str).str.replace(\",\", \".\").astype(float)\n",
    "    df = df.fillna(0)\n",
    "\n",
    "    # add Category and Category Type column to df from df_category based on Sub-category\n",
    "    df['Category'] = df['Sub-category'].map(df_category.set_index('Sub-category')['Category'])\n",
    "    df['Category Type'] = df['Sub-category'].map(df_category.set_index('Sub-category')['Category Type'])\n",
    "\n",
    "\n",
    "    df.to_csv('processed_data/2023/'+ data_frame_name, sep=\";\", index=False)\n",
    "    print(\"Refactoring of \", data_frame_name, \" is completed !! \")\n",
    "    return None"
   ]
  },
  {
   "cell_type": "code",
   "execution_count": 355,
   "metadata": {},
   "outputs": [
    {
     "name": "stdout",
     "output_type": "stream",
     "text": [
      "Refactoring  00_old_balance.csv  as per project requirement\n",
      "None\n",
      "Refactoring of  00_old_balance.csv  is completed !! \n",
      "Refactoring  01_Jan.csv  as per project requirement\n",
      "Refactoring of  01_Jan.csv  is completed !! \n",
      "Refactoring  02_Feb.csv  as per project requirement\n",
      "Refactoring of  02_Feb.csv  is completed !! \n",
      "Refactoring  03_March.csv  as per project requirement\n",
      "Refactoring of  03_March.csv  is completed !! \n",
      "Refactoring  04_April.csv  as per project requirement\n",
      "Refactoring of  04_April.csv  is completed !! \n",
      "Refactoring  05_May.csv  as per project requirement\n",
      "Refactoring of  05_May.csv  is completed !! \n",
      "Refactoring  06_June.csv  as per project requirement\n",
      "Refactoring of  06_June.csv  is completed !! \n",
      "Refactoring  07_July.csv  as per project requirement\n",
      "Refactoring of  07_July.csv  is completed !! \n",
      "Refactoring  08_August.csv  as per project requirement\n",
      "Refactoring of  08_August.csv  is completed !! \n",
      "Refactoring  09_September.csv  as per project requirement\n",
      "Refactoring of  09_September.csv  is completed !! \n",
      "Refactoring  10_October.csv  as per project requirement\n",
      "Refactoring of  10_October.csv  is completed !! \n",
      "Refactoring  11_November.csv  as per project requirement\n",
      "Refactoring of  11_November.csv  is completed !! \n",
      "Refactoring  12_December.csv  as per project requirement\n",
      "Refactoring of  12_December.csv  is completed !! \n"
     ]
    }
   ],
   "source": [
    "import pandas as pd\n",
    "import numpy as np\n",
    "considered_months = [\"00_old_balance.csv\",\"01_Jan.csv\", \"02_Feb.csv\", \"03_March.csv\", \"04_April.csv\", \"05_May.csv\", \"06_June.csv\", \"07_July.csv\", \"08_August.csv\", \"09_September.csv\", \"10_October.csv\", \"11_November.csv\", \"12_December.csv\"]\n",
    "\n",
    "for location in considered_months:\n",
    "    refactor_monthly_data_frame(location)\n",
    "\n",
    "df = pd.DataFrame()\n",
    "for location in considered_months:\n",
    "    df_temp = pd.read_csv('processed_data/2023/' + location, sep=';')\n",
    "    df = pd.concat([df, df_temp], ignore_index=True)\n",
    "\n",
    "df[\"Balance_Amount\"] = df[\"amount\"].cumsum()\n",
    "df.to_csv(\"processed_data/all_transactions.csv\", sep=\";\", index=True)\n",
    "#df.head()"
   ]
  },
  {
   "cell_type": "code",
   "execution_count": 356,
   "metadata": {},
   "outputs": [],
   "source": [
    "old_balance = df[df['Sub-category'] == 'Old Balance Income']['amount'].values.sum()\n",
    "#old_balance"
   ]
  },
  {
   "cell_type": "code",
   "execution_count": 357,
   "metadata": {},
   "outputs": [],
   "source": [
    "df_coupons = pd.read_csv(\"input_data/2023/100_coupons.csv\", sep=\";\")\n",
    "# extract month from date column\n",
    "df_coupons['Date'] = pd.to_datetime(df_coupons['Date'])\n",
    "df_coupons['month'] = df_coupons['Date'].dt.month_name()\n",
    "\n",
    "# pivot table for month and amount\n",
    "df_coupons = df_coupons.pivot_table(index='month', values='amount', aggfunc='sum').reset_index()\n",
    "df_coupons.set_index('month', inplace=True)\n",
    "\n",
    "\n",
    "# add new row with total\n",
    "df_coupons.loc['Total'] = df_coupons.sum(numeric_only=True, axis=0)\n",
    "df_coupons.to_csv(\"processed_data/2023/100_coupons.csv\",sep=\";\" , index=True)"
   ]
  },
  {
   "cell_type": "code",
   "execution_count": 358,
   "metadata": {},
   "outputs": [],
   "source": [
    "def calculate_sum_and_percentage(df):\n",
    "    df.set_index('Sub-category', inplace=True)\n",
    "    df.loc[\"total_gross_income\"] = df.loc[\"Salary\"]+df.loc[\"Tax less Income\"]+df.loc[\"Gift Coupon Income\"]\n",
    "    df.loc[\"total_gross_income_pdp\"] = df.loc[\"total_gross_income\"]+df.loc[\"PDP Income\"]+df.loc[\"Office Travel Income\"]+df.loc[\"Gift Coupon Income\"]\n",
    "    df.loc[\"total_state_cuttings\"] = df.loc[\"Tax\"]+df.loc[\"Health Insurance\"]+df.loc[\"Pension\"]+df.loc[\"Unemployment Fund\"]+df.loc[\"Nursing Care\"]\n",
    "    df.loc[\"total_net_income\"] = df.loc[\"total_gross_income\"]+df.loc[\"total_state_cuttings\"]+df.loc[\"Directed to Company Pension\"]-df.loc[\"Gift Coupon Income\"]\n",
    "    df.loc[\"tot_living_exp\"] = df.loc[\"Rent\"]+df.loc[\"Phone & WiFi\"]+df.loc[\"Groceries\"]+df.loc[\"Travel Pass\"]+df.loc[\"Gifts\"]\n",
    "    df.loc[\"tot_extra_exp\"] = df.loc[\"Entertainment\"]+df.loc[\"Vacation\"]+df.loc[\"Coupon spendings\"]+df.loc[\"Family & Kids\"]+df.loc[\"Restaurant\"]+df.loc[\"Taxi\"]+df.loc[\"Cloths\"]+df.loc[\"Gym & Self grooming\"]\n",
    "    df.loc[\"total_savings\"] = df.loc[\"To India\"]+df.loc[\"Company Pension as gift coupon spending\"]+df.loc[\"Directed to Company Pension\"]\n",
    "    df.loc[\"complete_expenses\"] = df.loc[\"tot_living_exp\"]+df.loc[\"tot_extra_exp\"]\n",
    "    df.loc[\"old_balance\"] = old_balance\n",
    "    try:\n",
    "        df[\"percentage\"]=round((df[\"amount\"]/df.loc[\"total_gross_income\"].values[0])*100,2)\n",
    "    except:\n",
    "        df[\"percentage\"] = 0\n",
    "    return df\n"
   ]
  },
  {
   "cell_type": "code",
   "execution_count": 359,
   "metadata": {},
   "outputs": [],
   "source": [
    "df_yearly_detailed_metrics = pd.pivot_table(df, index=['Sub-category'], values=['amount'], aggfunc=np.sum).reset_index()\n",
    "\n",
    "df_yearly_detailed_metrics = calculate_sum_and_percentage(df_yearly_detailed_metrics)\n",
    "df_yearly_detailed_metrics.loc[\"reamining_balance\"] = df[\"Balance_Amount\"].values[-1]\n",
    "df_yearly_detailed_metrics.to_csv(\"processed_data/yearly_detailed_metrics.csv\", sep=\";\", index=True)\n",
    "#df_yearly_detailed_metrics"
   ]
  },
  {
   "cell_type": "code",
   "execution_count": 360,
   "metadata": {},
   "outputs": [],
   "source": [
    "df_monthly_detailed_metrics = pd.pivot_table(df, index=['month','Sub-category', ], values=['amount'], aggfunc=np.sum).reset_index()\n",
    "df_monthly_detailed_metrics.to_csv(\"processed_data/monthly_detailed_metrics_2.csv\", sep=\";\", index=True)\n",
    "df_monthly_detailed_metrics_with_percentage = pd.DataFrame()\n",
    "for month in df_monthly_detailed_metrics[\"month\"].unique():\n",
    "    temp_df = df_monthly_detailed_metrics[df_monthly_detailed_metrics[\"month\"]==month][[\"Sub-category\",\"amount\"]].copy()\n",
    "    temp_df = calculate_sum_and_percentage(temp_df)\n",
    "    temp_df.loc[\"reamining_balance\"] = df[df[\"month\"]==month][\"Balance_Amount\"].values[-1]\n",
    "    temp_df[\"month\"] = month\n",
    "    temp_df[\"percentage\"] = temp_df[\"percentage\"].fillna(0)\n",
    "    df_monthly_detailed_metrics_with_percentage = pd.concat([df_monthly_detailed_metrics_with_percentage,temp_df],axis=0)\n",
    "df_monthly_detailed_metrics_with_percentage.to_csv(\"processed_data/monthly_detailed_metrics.csv\", sep=\";\", index=True)\n",
    "#df_monthly_detailed_metrics_with_percentage"
   ]
  }
 ],
 "metadata": {
  "kernelspec": {
   "display_name": "Monthly_finance_tracking",
   "language": "python",
   "name": "python3"
  },
  "language_info": {
   "codemirror_mode": {
    "name": "ipython",
    "version": 3
   },
   "file_extension": ".py",
   "mimetype": "text/x-python",
   "name": "python",
   "nbconvert_exporter": "python",
   "pygments_lexer": "ipython3",
   "version": "3.10.12"
  },
  "orig_nbformat": 4
 },
 "nbformat": 4,
 "nbformat_minor": 2
}
